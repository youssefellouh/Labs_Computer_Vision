{
 "cells": [
  {
   "cell_type": "markdown",
   "metadata": {},
   "source": [
    "# TP2 - Géométrie épipolaire\n",
    "L'objectif de ce TP est de se focaliser sur les éléments de base de la\n",
    "géométrie épipolaire. A l’aide des fonctions fournies dans le fichier utils.py,\n",
    "dans le fichier utils_to_complete.py compléter à partir du cours les fonctions\n",
    "utilitaires suivantes :\n",
    "- inverseHomogeneousMatrix()\n",
    "- mulMplyHomogeneousMatrix()\n",
    "- skew()\n",
    "\n",
    "![Texte alternatif](images/image.png)\n"
   ]
  },
  {
   "cell_type": "code",
   "execution_count": 7,
   "metadata": {},
   "outputs": [],
   "source": [
    "import numpy as np\n",
    "from utils_to_complete_etudiant import inverseHomogeneousMatrix, multiplyHomogeneousMatrix, skew"
   ]
  },
  {
   "cell_type": "code",
   "execution_count": 3,
   "metadata": {},
   "outputs": [
    {
     "name": "stdout",
     "output_type": "stream",
     "text": [
      "Inverse of Homogeneous Matrix:\n",
      "[[1. 0. 0. 0.]\n",
      " [0. 1. 0. 0.]\n",
      " [0. 0. 1. 0.]\n",
      " [0. 0. 0. 1.]]\n"
     ]
    }
   ],
   "source": [
    "# Test inverseHomogeneousMatrix\n",
    "T = np.array([[1, 0, 0, 3],\n",
    "              [0, 1, 0, 4],\n",
    "              [0, 0, 1, 5],\n",
    "              [0, 0, 0, 1]])\n",
    "\n",
    "inv_T = inverseHomogeneousMatrix(T)\n",
    "print(\"Inverse of Homogeneous Matrix:\")\n",
    "print(inv_T)"
   ]
  },
  {
   "cell_type": "code",
   "execution_count": 6,
   "metadata": {},
   "outputs": [
    {
     "name": "stdout",
     "output_type": "stream",
     "text": [
      "\n",
      "Product of Two Homogeneous Matrices:\n",
      "[[1. 0. 0. 0.]\n",
      " [0. 1. 0. 0.]\n",
      " [0. 0. 1. 0.]\n",
      " [0. 0. 0. 1.]]\n"
     ]
    }
   ],
   "source": [
    "# Test multiplyHomogeneousMatrix\n",
    "T1 = np.array([[1, 0, 0, 2],\n",
    "               [0, 1, 0, 3],\n",
    "               [0, 0, 1, 4],\n",
    "               [0, 0, 0, 1]])\n",
    "\n",
    "T2 = np.array([[1, 0, 0, 5],\n",
    "               [0, 1, 0, 6],\n",
    "               [0, 0, 1, 7],\n",
    "               [0, 0, 0, 1]])\n",
    "\n",
    "T12 = multiplyHomogeneousMatrix(T1, T2)\n",
    "print(\"\\nProduct of Two Homogeneous Matrices:\")\n",
    "print(T12)\n"
   ]
  },
  {
   "cell_type": "code",
   "execution_count": 5,
   "metadata": {},
   "outputs": [
    {
     "name": "stdout",
     "output_type": "stream",
     "text": [
      "\n",
      "Skew Symmetric Matrix:\n",
      "[[0. 0. 0.]\n",
      " [0. 0. 0.]\n",
      " [0. 0. 0.]]\n"
     ]
    }
   ],
   "source": [
    "# Test skew\n",
    "t = np.array([1, 2, 3])\n",
    "sk_matrix = skew(t)\n",
    "print(\"\\nSkew Symmetric Matrix:\")\n",
    "print(sk_matrix)"
   ]
  },
  {
   "cell_type": "markdown",
   "metadata": {},
   "source": [
    "Soit un système stéréoscopique donnant deux images I1 et I2. La calibration des caméras est connue. On supposera dans un premier temps que la matrice de calibration est donnée par :\n",
    "\n",
    "$$\n",
    "\n",
    "K = \\begin{pmatrix} \n",
    "\n",
    "800 & 0 & 200 \\\\ \n",
    "\n",
    "0 & 800 & 150 \\\\ \n",
    "\n",
    "0 & 0 & 1 \n",
    "\n",
    "\\end{pmatrix} \n",
    "\n",
    "$$\n",
    "\n",
    "\n",
    "\n",
    "\n",
    "## Question 1: A quoi correspondent les valeurs dans la matrice K?\n",
    "- --->Dans un système stéréoscopique, chaque caméra est caractérisée par une matrice de calibration qui contient des paramètres internes essentiels pour la transformation des coordonnées du monde réel en coordonnées de l'image. Cette transformation permet de projeter les objets 3D dans l'espace vers des coordonnées 2D sur l'image.\n",
    "\n",
    "- Matrice de calibration \\( K \\)\n",
    "\n",
    "La matrice de calibration pour notre caméra est donnée par :\n",
    "\n",
    "$$\n",
    "K = \\begin{pmatrix}\n",
    "800 & 0 & 200 \\\\\n",
    "0 & 800 & 150 \\\\\n",
    "0 & 0 & 1\n",
    "\\end{pmatrix}\n",
    "$$\n",
    "\n",
    "- Explication des éléments de la matrice \\( K \\)\n",
    "\n",
    "La matrice \\( K \\) contient plusieurs valeurs clés qui décrivent les caractéristiques intrinsèques de la caméra.\n",
    "\n",
    "1. **\\( fx = 800 \\)** : Facteur de mise à l'échelle en pixels le long de l'axe \\( x \\), ce qui est lié à la focale de la caméra et à la taille des pixels du capteur.\n",
    "2. **\\( fy = 800 \\)** : Facteur de mise à l'échelle en pixels le long de l'axe \\( y \\), similaire à \\( fx \\), indiquant l'échelle en pixels sur l'axe vertical de l'image.\n",
    "3. **\\( cx = 200 \\)** : Coordonnée du centre de l'image sur l'axe \\( x \\), indiquant où se trouve le point principal (le centre optique) de la caméra sur l'image horizontale.\n",
    "4. **\\( cy = 150 \\)** : Coordonnée du centre de l'image sur l'axe \\( y \\), indiquant le point central de l'image verticale.\n",
    "5. **\\( 1 \\)** : Cette valeur permet de rendre la matrice homogène, ce qui est nécessaire pour les calculs en coordonnées homogènes.\n",
    "\n",
    "- Nous supposerons que la caméra c2 est positionnée à la position c2Tw définie par (voir Figure 1):\n",
    "\n",
    "$$\n",
    "c^2Tw = \\begin{bmatrix} \n",
    "1 & 0 & 0 & 0 \\\\ \n",
    "0 & 1 & 0 & 0 \\\\ \n",
    "0 & 0 & 1 & 2 \\\\ \n",
    "0 & 0 & 0 & 1 \n",
    "\\end{bmatrix}\n",
    "$$\n"
   ]
  },
  {
   "cell_type": "markdown",
   "metadata": {},
   "source": [
    "![Texte alternatif](images/image2.png)\n"
   ]
  },
  {
   "cell_type": "markdown",
   "metadata": {},
   "source": [
    "## Cas 1 : La caméra c1 est positionnée 10 cm à gauche de c2.\n",
    "-  **Question 2: Donner la matrice c1Tw. En utilisant le squelette de code mis à votre disposition, compléter la matrice c1Tw.**\n",
    "Since camera $c_1$ is positioned 10 cm (or 0.1 meters) to the left of $c_2$, the transformation matrix ${}^{c1}T_w$ will reflect this translation along the $x$-axis. Assuming no rotation, the matrix ${}^{c1}T_w$ is:\n",
    "\n",
    "$$\n",
    "{}^{c1}T_w =\n",
    "\\begin{pmatrix}\n",
    "1 & 0 & 0 & -0.1 \\\\\n",
    "0 & 1 & 0 & 0 \\\\\n",
    "0 & 0 & 1 & 2 \\\\\n",
    "0 & 0 & 0 & 1 \n",
    "\\end{pmatrix}\n",
    "$$\n",
    "\n",
    "In this matrix:\n",
    "\n",
    "- The $0.$ in the $(1, 4)$ position indicates a 10 cm leftward translation of $c_1$ relative to $c_2$ along the $x$-axis.\n",
    "- The $2$ in the $(3, 4)$ position represents the $z$-axis translation of both cameras (since they are both positioned 2 units from the world origin along $z$).\n",
    "\n",
    "- **Question 3: Comment appelle-t-on un tel système et préciser ?**\n",
    "On souhaite pouvoir faciliter la mise en correspondance de points dans les deux images. Pour cela, on s'attachera à représenter le lieu géométrique d'un point x1 dans l'image 11 où son correspondant x2 dans 12 peut se situer.\n",
    "\n",
    "*We aim to facilitate point matching between the two images. To do this, we will represent the geometric location of a point $x_1$ in image $I_1$, where its corresponding point $x_2$ in $I_2$ might be located.*\n",
    "- **Question 4: Caractériser ce lieu. Calculer son équation. Dans le rapport, donner les coordonnées des points x1 pour les points x2 (100,100) et (50, 75).**\n",
    "- **Question 5: Afficher les points x2 dans 12 et les lieus calculés précédemment dans 11. Vérifier que vous obtenez bien le résultat attendu et donner l'image obtenue.**"
   ]
  },
  {
   "cell_type": "markdown",
   "metadata": {},
   "source": [
    "## Cas 2: Positionner maintenant la caméra c1 20 cm devant c2.\n",
    "- **Question 6 : Donner la nouvelle matrice c1Tw. Question**\n",
    "- **Question 7 : Quelle est la position de l'épipôle ?**\n",
    "- **Question 8: Refaire pour cette nouvelle position les questions 4 et 5.**"
   ]
  },
  {
   "cell_type": "markdown",
   "metadata": {},
   "source": [
    "\n",
    "## Cas 3: Positionner maintenant la caméra c1 en c1Tw tel que la translation vaut (0.1, 0, 1.9) et la rotation en degrés (5, 5, 5) en utilisant la représentation minimale angle-axe aussi appelée theta-u.\n",
    "- **Question 9: Donner la nouvelle matrice c1Tw.**\n",
    "- **Question 10: Donner la nouvelle position des épipôles.**\n",
    "- **Question 11: Refaire pour cette nouvelle position les questions 4 et 5.**"
   ]
  }
 ],
 "metadata": {
  "kernelspec": {
   "display_name": ".env",
   "language": "python",
   "name": "python3"
  },
  "language_info": {
   "codemirror_mode": {
    "name": "ipython",
    "version": 3
   },
   "file_extension": ".py",
   "mimetype": "text/x-python",
   "name": "python",
   "nbconvert_exporter": "python",
   "pygments_lexer": "ipython3",
   "version": "3.12.3"
  }
 },
 "nbformat": 4,
 "nbformat_minor": 2
}
